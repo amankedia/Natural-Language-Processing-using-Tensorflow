{
 "cells": [
  {
   "cell_type": "code",
   "execution_count": 1,
   "metadata": {},
   "outputs": [],
   "source": [
    "import csv\n",
    "import tensorflow as tf\n",
    "import numpy as np\n",
    "from tensorflow.keras.preprocessing.text import Tokenizer\n",
    "from tensorflow.keras.preprocessing.sequence import pad_sequences"
   ]
  },
  {
   "cell_type": "code",
   "execution_count": 2,
   "metadata": {},
   "outputs": [],
   "source": [
    "vocab_size = 1000\n",
    "embedding_dim = 16\n",
    "max_length = 120\n",
    "trunc_type='post'\n",
    "padding_type='post'\n",
    "oov_tok = \"<OOV>\"\n",
    "training_portion = .8"
   ]
  },
  {
   "cell_type": "code",
   "execution_count": 3,
   "metadata": {},
   "outputs": [
    {
     "name": "stdout",
     "output_type": "stream",
     "text": [
      "153\n"
     ]
    }
   ],
   "source": [
    "sentences = []\n",
    "labels = []\n",
    "stopwords = [ \"a\", \"about\", \"above\", \"after\", \"again\", \"against\", \"all\", \"am\", \"an\", \"and\", \"any\", \"are\", \"as\", \"at\", \"be\", \"because\", \"been\", \"before\", \"being\", \"below\", \"between\", \"both\", \"but\", \"by\", \"could\", \"did\", \"do\", \"does\", \"doing\", \"down\", \"during\", \"each\", \"few\", \"for\", \"from\", \"further\", \"had\", \"has\", \"have\", \"having\", \"he\", \"he'd\", \"he'll\", \"he's\", \"her\", \"here\", \"here's\", \"hers\", \"herself\", \"him\", \"himself\", \"his\", \"how\", \"how's\", \"i\", \"i'd\", \"i'll\", \"i'm\", \"i've\", \"if\", \"in\", \"into\", \"is\", \"it\", \"it's\", \"its\", \"itself\", \"let's\", \"me\", \"more\", \"most\", \"my\", \"myself\", \"nor\", \"of\", \"on\", \"once\", \"only\", \"or\", \"other\", \"ought\", \"our\", \"ours\", \"ourselves\", \"out\", \"over\", \"own\", \"same\", \"she\", \"she'd\", \"she'll\", \"she's\", \"should\", \"so\", \"some\", \"such\", \"than\", \"that\", \"that's\", \"the\", \"their\", \"theirs\", \"them\", \"themselves\", \"then\", \"there\", \"there's\", \"these\", \"they\", \"they'd\", \"they'll\", \"they're\", \"they've\", \"this\", \"those\", \"through\", \"to\", \"too\", \"under\", \"until\", \"up\", \"very\", \"was\", \"we\", \"we'd\", \"we'll\", \"we're\", \"we've\", \"were\", \"what\", \"what's\", \"when\", \"when's\", \"where\", \"where's\", \"which\", \"while\", \"who\", \"who's\", \"whom\", \"why\", \"why's\", \"with\", \"would\", \"you\", \"you'd\", \"you'll\", \"you're\", \"you've\", \"your\", \"yours\", \"yourself\", \"yourselves\" ]\n",
    "print(len(stopwords))"
   ]
  },
  {
   "cell_type": "code",
   "execution_count": 4,
   "metadata": {},
   "outputs": [],
   "source": [
    "with open(\"../../Datasets/bbc-text.csv\", 'r') as csvfile:\n",
    "    reader = csv.reader(csvfile, delimiter=',')\n",
    "    next(reader)\n",
    "    for row in reader:\n",
    "        labels.append(row[0])\n",
    "        sentence = row[1]\n",
    "        for word in stopwords:\n",
    "            token = \" \" + word + \" \"\n",
    "            sentence = sentence.replace(token, \" \")\n",
    "        sentences.append(sentence)"
   ]
  },
  {
   "cell_type": "code",
   "execution_count": 5,
   "metadata": {},
   "outputs": [
    {
     "name": "stdout",
     "output_type": "stream",
     "text": [
      "2225\n",
      "2225\n",
      "tv future hands viewers home theatre systems  plasma high-definition tvs  digital video recorders moving living room  way people watch tv will radically different five years  time.  according expert panel gathered annual consumer electronics show las vegas discuss new technologies will impact one favourite pastimes. us leading trend  programmes content will delivered viewers via home networks  cable  satellite  telecoms companies  broadband service providers front rooms portable devices.  one talked-about technologies ces digital personal video recorders (dvr pvr). set-top boxes  like us s tivo uk s sky+ system  allow people record  store  play  pause forward wind tv programmes want.  essentially  technology allows much personalised tv. also built-in high-definition tv sets  big business japan us  slower take off europe lack high-definition programming. not can people forward wind adverts  can also forget abiding network channel schedules  putting together a-la-carte entertainment. us networks cable satellite companies worried means terms advertising revenues well  brand identity  viewer loyalty channels. although us leads technology moment  also concern raised europe  particularly growing uptake services like sky+.  happens today  will see nine months years  time uk   adam hume  bbc broadcast s futurologist told bbc news website. likes bbc  no issues lost advertising revenue yet. pressing issue moment commercial uk broadcasters  brand loyalty important everyone.  will talking content brands rather network brands   said tim hanlon  brand communications firm starcom mediavest.  reality broadband connections  anybody can producer content.  added:  challenge now hard promote programme much choice.   means  said stacey jolna  senior vice president tv guide tv group  way people find content want watch simplified tv viewers. means networks  us terms  channels take leaf google s book search engine future  instead scheduler help people find want watch. kind channel model might work younger ipod generation used taking control gadgets play them. might not suit everyone  panel recognised. older generations comfortable familiar schedules channel brands know getting. perhaps not want much choice put hands  mr hanlon suggested.  end  kids just diapers pushing buttons already - everything possible available   said mr hanlon.  ultimately  consumer will tell market want.   50 000 new gadgets technologies showcased ces  many enhancing tv-watching experience. high-definition tv sets everywhere many new models lcd (liquid crystal display) tvs launched dvr capability built  instead external boxes. one example launched show humax s 26-inch lcd tv 80-hour tivo dvr dvd recorder. one us s biggest satellite tv companies  directtv  even launched branded dvr show 100-hours recording capability  instant replay  search function. set can pause rewind tv 90 hours. microsoft chief bill gates announced pre-show keynote speech partnership tivo  called tivotogo  means people can play recorded programmes windows pcs mobile devices. reflect increasing trend freeing multimedia people can watch want  want.\n"
     ]
    }
   ],
   "source": [
    "print(len(labels))\n",
    "print(len(sentences))\n",
    "print(sentences[0])"
   ]
  },
  {
   "cell_type": "code",
   "execution_count": 6,
   "metadata": {},
   "outputs": [
    {
     "name": "stdout",
     "output_type": "stream",
     "text": [
      "1780\n",
      "1780\n",
      "1780\n",
      "445\n",
      "445\n"
     ]
    }
   ],
   "source": [
    "train_size = int(len(sentences) * training_portion)\n",
    "\n",
    "train_sentences = sentences[:train_size]\n",
    "train_labels = labels[:train_size]\n",
    "\n",
    "validation_sentences = sentences[train_size:]\n",
    "validation_labels = labels[train_size:]\n",
    "\n",
    "print(train_size)\n",
    "print(len(train_sentences))\n",
    "print(len(train_labels))\n",
    "print(len(validation_sentences))\n",
    "print(len(validation_labels))"
   ]
  },
  {
   "cell_type": "code",
   "execution_count": 7,
   "metadata": {},
   "outputs": [
    {
     "name": "stdout",
     "output_type": "stream",
     "text": [
      "449\n",
      "120\n",
      "200\n",
      "120\n",
      "192\n",
      "120\n"
     ]
    }
   ],
   "source": [
    "tokenizer = Tokenizer(num_words = vocab_size, oov_token=oov_tok)\n",
    "tokenizer.fit_on_texts(train_sentences)\n",
    "word_index = tokenizer.word_index\n",
    "\n",
    "train_sequences = tokenizer.texts_to_sequences(train_sentences)\n",
    "train_padded = pad_sequences(train_sequences, padding=padding_type, maxlen=max_length)\n",
    "\n",
    "print(len(train_sequences[0]))\n",
    "print(len(train_padded[0]))\n",
    "\n",
    "print(len(train_sequences[1]))\n",
    "print(len(train_padded[1]))\n",
    "\n",
    "print(len(train_sequences[10]))\n",
    "print(len(train_padded[10]))"
   ]
  },
  {
   "cell_type": "code",
   "execution_count": 8,
   "metadata": {},
   "outputs": [
    {
     "name": "stdout",
     "output_type": "stream",
     "text": [
      "[99, 170, 1, 1, 55, 993, 771, 1, 97, 1, 1, 139, 186, 1, 1, 1, 1, 48, 9, 907, 99, 4, 1, 347, 93, 24, 17, 140, 1, 1, 1, 585, 465, 1, 65, 1, 1, 1, 10, 935, 4, 745, 12, 858, 1, 11, 613, 1, 1, 408, 4, 1, 1, 746, 55, 552, 1, 1, 1, 144, 262, 123, 1, 809, 1, 994, 599, 12, 1, 1, 935, 1, 139, 357, 186, 1, 1, 1, 45, 69, 1, 34, 11, 2, 1, 22, 2, 1, 146, 429, 9, 153, 1, 79, 1, 449, 1, 99, 1, 85, 1, 90, 1, 60, 1, 99, 8, 1, 614, 97, 1, 99, 1, 141, 147, 433, 11, 1, 44, 56, 162, 1, 97, 1, 1, 5, 13, 9, 449, 1, 1, 13, 8, 1, 1, 444, 1, 1, 1, 586, 1, 1, 1, 782, 11, 552, 1, 1, 144, 1, 413, 859, 1, 1, 40, 1, 1, 1, 1, 1, 257, 11, 1, 90, 747, 8, 1, 1, 162, 735, 606, 1, 134, 34, 1, 1, 445, 4, 91, 947, 125, 24, 17, 22, 1, 1, 43, 1, 2, 1, 29, 43, 95, 348, 1, 43, 25, 481, 268, 1, 1, 341, 1, 312, 747, 1, 22, 1, 1, 1, 307, 772, 4, 1, 408, 1, 400, 444, 1, 3, 1, 1, 1, 1, 75, 1, 1, 1, 262, 1, 1, 13, 1, 408, 47, 892, 21, 259, 1, 358, 60, 562, 413, 3, 1, 1, 670, 1, 214, 99, 1, 99, 98, 48, 9, 333, 408, 85, 907, 1, 99, 1, 413, 552, 11, 859, 1, 44, 1, 1, 2, 528, 497, 1, 170, 587, 1, 138, 9, 333, 85, 907, 1, 1, 1, 359, 61, 1, 1, 757, 100, 269, 287, 1, 79, 638, 359, 5, 1, 772, 1, 1, 1, 1, 1, 1, 1, 1, 1, 188, 384, 1, 5, 85, 60, 562, 114, 1, 6, 1, 1, 101, 1, 27, 1, 1, 1, 111, 916, 454, 466, 3, 6, 1, 1, 465, 4, 1, 49, 85, 442, 37, 10, 1, 935, 1, 1, 36, 1, 99, 1, 893, 97, 1, 99, 1, 1, 36, 10, 1, 1, 1, 1, 1, 1, 671, 1, 1, 1, 587, 1, 1, 12, 894, 671, 65, 1, 2, 1, 1, 1, 99, 1, 948, 1, 1, 593, 1, 12, 11, 2, 248, 1, 99, 144, 1, 103, 671, 1, 1, 65, 534, 688, 1, 1, 1, 1, 497, 1, 45, 13, 1, 1, 99, 1, 688, 282, 126, 252, 1, 367, 658, 65, 1, 773, 1, 1, 156, 1, 413, 9, 13, 79, 1, 1, 783, 924, 128, 599, 1, 1, 1, 1, 1, 9, 13, 907, 85, 85]\n",
      "[454 466   3   6   1   1 465   4   1  49  85 442  37  10   1 935   1   1\n",
      "  36   1  99   1 893  97   1  99   1   1  36  10   1   1   1   1   1   1\n",
      " 671   1   1   1 587   1   1  12 894 671  65   1   2   1   1   1  99   1\n",
      " 948   1   1 593   1  12  11   2 248   1  99 144   1 103 671   1   1  65\n",
      " 534 688   1   1   1   1 497   1  45  13   1   1  99   1 688 282 126 252\n",
      "   1 367 658  65   1 773   1   1 156   1 413   9  13  79   1   1 783 924\n",
      " 128 599   1   1   1   1   1   9  13 907  85  85]\n"
     ]
    }
   ],
   "source": [
    "print(train_sequences[0])\n",
    "print(train_padded[0])"
   ]
  },
  {
   "cell_type": "code",
   "execution_count": 9,
   "metadata": {},
   "outputs": [
    {
     "name": "stdout",
     "output_type": "stream",
     "text": [
      "445\n",
      "(445, 120)\n"
     ]
    }
   ],
   "source": [
    "validation_sequences = tokenizer.texts_to_sequences(validation_sentences)\n",
    "validation_padded = pad_sequences(validation_sequences, padding=padding_type, maxlen=max_length)\n",
    "\n",
    "print(len(validation_sequences))\n",
    "print(validation_padded.shape)"
   ]
  },
  {
   "cell_type": "code",
   "execution_count": 10,
   "metadata": {},
   "outputs": [
    {
     "name": "stdout",
     "output_type": "stream",
     "text": [
      "[4]\n",
      "[2]\n",
      "[1]\n",
      "(1780, 1)\n",
      "[5]\n",
      "[4]\n",
      "[3]\n",
      "(445, 1)\n"
     ]
    }
   ],
   "source": [
    "label_tokenizer = Tokenizer()\n",
    "label_tokenizer.fit_on_texts(labels)\n",
    "\n",
    "training_label_seq = np.array(label_tokenizer.texts_to_sequences(train_labels))\n",
    "validation_label_seq = np.array(label_tokenizer.texts_to_sequences(validation_labels))\n",
    "\n",
    "print(training_label_seq[0])\n",
    "print(training_label_seq[1])\n",
    "print(training_label_seq[2])\n",
    "print(training_label_seq.shape)\n",
    "\n",
    "print(validation_label_seq[0])\n",
    "print(validation_label_seq[1])\n",
    "print(validation_label_seq[2])\n",
    "print(validation_label_seq.shape)"
   ]
  },
  {
   "cell_type": "code",
   "execution_count": 11,
   "metadata": {},
   "outputs": [
    {
     "name": "stdout",
     "output_type": "stream",
     "text": [
      "Model: \"sequential\"\n",
      "_________________________________________________________________\n",
      "Layer (type)                 Output Shape              Param #   \n",
      "=================================================================\n",
      "embedding (Embedding)        (None, 120, 16)           16000     \n",
      "_________________________________________________________________\n",
      "global_average_pooling1d (Gl (None, 16)                0         \n",
      "_________________________________________________________________\n",
      "dense (Dense)                (None, 24)                408       \n",
      "_________________________________________________________________\n",
      "dense_1 (Dense)              (None, 6)                 150       \n",
      "=================================================================\n",
      "Total params: 16,558\n",
      "Trainable params: 16,558\n",
      "Non-trainable params: 0\n",
      "_________________________________________________________________\n"
     ]
    }
   ],
   "source": [
    "model = tf.keras.Sequential([\n",
    "    tf.keras.layers.Embedding(vocab_size, embedding_dim, input_length=max_length),\n",
    "    tf.keras.layers.GlobalAveragePooling1D(),\n",
    "    tf.keras.layers.Dense(24, activation='relu'),\n",
    "    tf.keras.layers.Dense(6, activation='softmax')\n",
    "])\n",
    "model.compile(loss='sparse_categorical_crossentropy',optimizer='adam',metrics=['accuracy'])\n",
    "model.summary()"
   ]
  },
  {
   "cell_type": "code",
   "execution_count": 14,
   "metadata": {},
   "outputs": [
    {
     "name": "stdout",
     "output_type": "stream",
     "text": [
      "Train on 1780 samples, validate on 445 samples\n",
      "Epoch 1/30\n",
      "1780/1780 - 0s - loss: 0.0509 - accuracy: 0.9966 - val_loss: 0.1929 - val_accuracy: 0.9506\n",
      "Epoch 2/30\n",
      "1780/1780 - 0s - loss: 0.0465 - accuracy: 0.9978 - val_loss: 0.1906 - val_accuracy: 0.9506\n",
      "Epoch 3/30\n",
      "1780/1780 - 0s - loss: 0.0423 - accuracy: 0.9978 - val_loss: 0.1875 - val_accuracy: 0.9506\n",
      "Epoch 4/30\n",
      "1780/1780 - 0s - loss: 0.0385 - accuracy: 0.9983 - val_loss: 0.1853 - val_accuracy: 0.9506\n",
      "Epoch 5/30\n",
      "1780/1780 - 0s - loss: 0.0353 - accuracy: 0.9978 - val_loss: 0.1826 - val_accuracy: 0.9506\n",
      "Epoch 6/30\n",
      "1780/1780 - 0s - loss: 0.0322 - accuracy: 0.9983 - val_loss: 0.1836 - val_accuracy: 0.9506\n",
      "Epoch 7/30\n",
      "1780/1780 - 0s - loss: 0.0295 - accuracy: 0.9989 - val_loss: 0.1807 - val_accuracy: 0.9506\n",
      "Epoch 8/30\n",
      "1780/1780 - 0s - loss: 0.0271 - accuracy: 0.9989 - val_loss: 0.1791 - val_accuracy: 0.9506\n",
      "Epoch 9/30\n",
      "1780/1780 - 0s - loss: 0.0249 - accuracy: 0.9994 - val_loss: 0.1792 - val_accuracy: 0.9506\n",
      "Epoch 10/30\n",
      "1780/1780 - 0s - loss: 0.0229 - accuracy: 0.9994 - val_loss: 0.1786 - val_accuracy: 0.9506\n",
      "Epoch 11/30\n",
      "1780/1780 - 0s - loss: 0.0212 - accuracy: 0.9994 - val_loss: 0.1784 - val_accuracy: 0.9528\n",
      "Epoch 12/30\n",
      "1780/1780 - 0s - loss: 0.0195 - accuracy: 0.9994 - val_loss: 0.1773 - val_accuracy: 0.9506\n",
      "Epoch 13/30\n",
      "1780/1780 - 0s - loss: 0.0179 - accuracy: 0.9994 - val_loss: 0.1764 - val_accuracy: 0.9528\n",
      "Epoch 14/30\n",
      "1780/1780 - 0s - loss: 0.0167 - accuracy: 1.0000 - val_loss: 0.1761 - val_accuracy: 0.9551\n",
      "Epoch 15/30\n",
      "1780/1780 - 0s - loss: 0.0154 - accuracy: 0.9994 - val_loss: 0.1755 - val_accuracy: 0.9551\n",
      "Epoch 16/30\n",
      "1780/1780 - 0s - loss: 0.0144 - accuracy: 1.0000 - val_loss: 0.1755 - val_accuracy: 0.9551\n",
      "Epoch 17/30\n",
      "1780/1780 - 0s - loss: 0.0133 - accuracy: 1.0000 - val_loss: 0.1754 - val_accuracy: 0.9551\n",
      "Epoch 18/30\n",
      "1780/1780 - 0s - loss: 0.0123 - accuracy: 1.0000 - val_loss: 0.1753 - val_accuracy: 0.9551\n",
      "Epoch 19/30\n",
      "1780/1780 - 0s - loss: 0.0115 - accuracy: 1.0000 - val_loss: 0.1757 - val_accuracy: 0.9551\n",
      "Epoch 20/30\n",
      "1780/1780 - 0s - loss: 0.0107 - accuracy: 1.0000 - val_loss: 0.1756 - val_accuracy: 0.9551\n",
      "Epoch 21/30\n",
      "1780/1780 - 0s - loss: 0.0100 - accuracy: 1.0000 - val_loss: 0.1767 - val_accuracy: 0.9551\n",
      "Epoch 22/30\n",
      "1780/1780 - 0s - loss: 0.0094 - accuracy: 1.0000 - val_loss: 0.1753 - val_accuracy: 0.9551\n",
      "Epoch 23/30\n",
      "1780/1780 - 0s - loss: 0.0088 - accuracy: 1.0000 - val_loss: 0.1762 - val_accuracy: 0.9551\n",
      "Epoch 24/30\n",
      "1780/1780 - 0s - loss: 0.0082 - accuracy: 1.0000 - val_loss: 0.1756 - val_accuracy: 0.9551\n",
      "Epoch 25/30\n",
      "1780/1780 - 0s - loss: 0.0077 - accuracy: 1.0000 - val_loss: 0.1762 - val_accuracy: 0.9551\n",
      "Epoch 26/30\n",
      "1780/1780 - 0s - loss: 0.0072 - accuracy: 1.0000 - val_loss: 0.1760 - val_accuracy: 0.9551\n",
      "Epoch 27/30\n",
      "1780/1780 - 0s - loss: 0.0068 - accuracy: 1.0000 - val_loss: 0.1773 - val_accuracy: 0.9551\n",
      "Epoch 28/30\n",
      "1780/1780 - 0s - loss: 0.0064 - accuracy: 1.0000 - val_loss: 0.1767 - val_accuracy: 0.9551\n",
      "Epoch 29/30\n",
      "1780/1780 - 0s - loss: 0.0060 - accuracy: 1.0000 - val_loss: 0.1772 - val_accuracy: 0.9551\n",
      "Epoch 30/30\n",
      "1780/1780 - 0s - loss: 0.0057 - accuracy: 1.0000 - val_loss: 0.1781 - val_accuracy: 0.9551\n"
     ]
    }
   ],
   "source": [
    "num_epochs = 30\n",
    "history = model.fit(train_padded, training_label_seq, epochs=num_epochs, validation_data=(validation_padded, validation_label_seq), verbose=2)"
   ]
  },
  {
   "cell_type": "code",
   "execution_count": 18,
   "metadata": {},
   "outputs": [
    {
     "data": {
      "image/png": "[encoded data removed]",
      "text/plain": [
       "<Figure size 432x288 with 1 Axes>"
      ]
     },
     "metadata": {
      "needs_background": "light"
     },
     "output_type": "display_data"
    },
    {
     "data": {
      "image/png": "[encoded data removed]",
      "text/plain": [
       "<Figure size 432x288 with 1 Axes>"
      ]
     },
     "metadata": {
      "needs_background": "light"
     },
     "output_type": "display_data"
    }
   ],
   "source": [
    "import matplotlib.pyplot as plt\n",
    "\n",
    "\n",
    "def plot_graphs(history, string):\n",
    "  plt.plot(history.history[string])\n",
    "  plt.plot(history.history['val_'+string])\n",
    "  plt.xlabel(\"Epochs\")\n",
    "  plt.ylabel(string)\n",
    "  plt.legend([string, 'val_'+string])\n",
    "  plt.show()\n",
    "  \n",
    "plot_graphs(history, \"accuracy\")\n",
    "plot_graphs(history, \"loss\")"
   ]
  },
  {
   "cell_type": "code",
   "execution_count": 19,
   "metadata": {},
   "outputs": [],
   "source": [
    "reverse_word_index = dict([(value, key) for (key, value) in word_index.items()])\n",
    "\n",
    "def decode_sentence(text):\n",
    "    return ' '.join([reverse_word_index.get(i, '?') for i in text])"
   ]
  },
  {
   "cell_type": "code",
   "execution_count": 20,
   "metadata": {},
   "outputs": [
    {
     "name": "stdout",
     "output_type": "stream",
     "text": [
      "(1000, 16)\n"
     ]
    }
   ],
   "source": [
    "e = model.layers[0]\n",
    "weights = e.get_weights()[0]\n",
    "print(weights.shape) # shape: (vocab_size, embedding_dim)"
   ]
  },
  {
   "cell_type": "code",
   "execution_count": 21,
   "metadata": {},
   "outputs": [],
   "source": [
    "import io\n",
    "\n",
    "out_v = io.open('vecs.tsv', 'w', encoding='utf-8')\n",
    "out_m = io.open('meta.tsv', 'w', encoding='utf-8')\n",
    "for word_num in range(1, vocab_size):\n",
    "  word = reverse_word_index[word_num]\n",
    "  embeddings = weights[word_num]\n",
    "  out_m.write(word + \"\\n\")\n",
    "  out_v.write('\\t'.join([str(x) for x in embeddings]) + \"\\n\")\n",
    "out_v.close()\n",
    "out_m.close()"
   ]
  }
 ],
 "metadata": {
  "kernelspec": {
   "display_name": "Python 3",
   "language": "python",
   "name": "python3"
  },
  "language_info": {
   "codemirror_mode": {
    "name": "ipython",
    "version": 3
   },
   "file_extension": ".py",
   "mimetype": "text/x-python",
   "name": "python",
   "nbconvert_exporter": "python",
   "pygments_lexer": "ipython3",
   "version": "3.7.0"
  }
 },
 "nbformat": 4,
 "nbformat_minor": 2
}
