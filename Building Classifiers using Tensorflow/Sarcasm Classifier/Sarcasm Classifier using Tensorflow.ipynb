{
 "cells": [
  {
   "cell_type": "code",
   "execution_count": 3,
   "metadata": {},
   "outputs": [],
   "source": [
    "import json\n",
    "import tensorflow as tf\n",
    "from tensorflow.keras.preprocessing.text import Tokenizer\n",
    "from tensorflow.keras.preprocessing.sequence import pad_sequences"
   ]
  },
  {
   "cell_type": "code",
   "execution_count": 4,
   "metadata": {},
   "outputs": [],
   "source": [
    "vocab_size = 10000\n",
    "embedding_dim = 16\n",
    "max_length = 32\n",
    "trunc_type = 'post'\n",
    "padding_type = 'post'\n",
    "oov_tok = \"<OOV>\"\n",
    "training_size = 20000"
   ]
  },
  {
   "cell_type": "code",
   "execution_count": 5,
   "metadata": {},
   "outputs": [],
   "source": [
    "#Importing the dataset\n",
    "with open('Dataset/sarcasm.json') as f:\n",
    "    datastore = json.load(f)"
   ]
  },
  {
   "cell_type": "code",
   "execution_count": 6,
   "metadata": {},
   "outputs": [],
   "source": [
    "sentences = []\n",
    "labels = []"
   ]
  },
  {
   "cell_type": "code",
   "execution_count": 7,
   "metadata": {},
   "outputs": [],
   "source": [
    "for item in datastore:\n",
    "    sentences.append(item['headline'])\n",
    "    labels.append(item['is_sarcastic'])"
   ]
  },
  {
   "cell_type": "code",
   "execution_count": 8,
   "metadata": {},
   "outputs": [],
   "source": [
    "training_sentences = sentences[0:training_size]\n",
    "training_labels = labels[0:training_size]\n",
    "testing_sentences = sentences[training_size:]\n",
    "testing_labels = labels[training_size:]"
   ]
  },
  {
   "cell_type": "code",
   "execution_count": 9,
   "metadata": {},
   "outputs": [],
   "source": [
    "tokenizer = Tokenizer(num_words = vocab_size, oov_token = oov_tok)\n",
    "tokenizer.fit_on_texts(training_sentences)\n",
    "word_index = tokenizer.word_index\n",
    "\n",
    "training_sequences = tokenizer.texts_to_sequences(training_sentences)\n",
    "\n",
    "training_padded = pad_sequences(training_sequences, maxlen = max_length, padding = padding_type, truncating = trunc_type)"
   ]
  },
  {
   "cell_type": "code",
   "execution_count": 10,
   "metadata": {},
   "outputs": [],
   "source": [
    "testing_sequences = tokenizer.texts_to_sequences(testing_sentences)\n",
    "testing_padded = pad_sequences(testing_sequences, maxlen = max_length, padding = padding_type, truncating = trunc_type)"
   ]
  },
  {
   "cell_type": "code",
   "execution_count": 11,
   "metadata": {},
   "outputs": [
    {
     "name": "stdout",
     "output_type": "stream",
     "text": [
      "Model: \"sequential\"\n",
      "_________________________________________________________________\n",
      "Layer (type)                 Output Shape              Param #   \n",
      "=================================================================\n",
      "embedding (Embedding)        (None, 32, 16)            160000    \n",
      "_________________________________________________________________\n",
      "global_average_pooling1d (Gl (None, 16)                0         \n",
      "_________________________________________________________________\n",
      "dense (Dense)                (None, 24)                408       \n",
      "_________________________________________________________________\n",
      "dense_1 (Dense)              (None, 1)                 25        \n",
      "=================================================================\n",
      "Total params: 160,433\n",
      "Trainable params: 160,433\n",
      "Non-trainable params: 0\n",
      "_________________________________________________________________\n"
     ]
    }
   ],
   "source": [
    "model = tf.keras.Sequential([\n",
    "    tf.keras.layers.Embedding(vocab_size, embedding_dim, input_length = max_length),\n",
    "    tf.keras.layers.GlobalAveragePooling1D(),\n",
    "    tf.keras.layers.Dense(24, activation = 'relu'),\n",
    "    tf.keras.layers.Dense(1, activation = 'sigmoid')\n",
    "])\n",
    "model.compile(loss='binary_crossentropy',optimizer='adam',metrics=['accuracy'])\n",
    "model.summary()"
   ]
  },
  {
   "cell_type": "code",
   "execution_count": 12,
   "metadata": {},
   "outputs": [
    {
     "name": "stderr",
     "output_type": "stream",
     "text": [
      "WARNING: Logging before flag parsing goes to stderr.\n",
      "W0808 00:05:55.045006 140735858033536 deprecation.py:323] From /Library/Frameworks/Python.framework/Versions/3.7/lib/python3.7/site-packages/tensorflow/python/ops/math_grad.py:1250: add_dispatch_support.<locals>.wrapper (from tensorflow.python.ops.array_ops) is deprecated and will be removed in a future version.\n",
      "Instructions for updating:\n",
      "Use tf.where in 2.0, which has the same broadcast rule as np.where\n"
     ]
    },
    {
     "name": "stdout",
     "output_type": "stream",
     "text": [
      "Train on 20000 samples, validate on 6709 samples\n",
      "Epoch 1/30\n",
      "20000/20000 [==============================] - 2s 78us/sample - loss: 0.5716 - accuracy: 0.6881 - val_loss: 0.4032 - val_accuracy: 0.8340\n",
      "Epoch 2/30\n",
      "20000/20000 [==============================] - 1s 69us/sample - loss: 0.3153 - accuracy: 0.8732 - val_loss: 0.3534 - val_accuracy: 0.8474\n",
      "Epoch 3/30\n",
      "20000/20000 [==============================] - 2s 79us/sample - loss: 0.2349 - accuracy: 0.9086 - val_loss: 0.3413 - val_accuracy: 0.8556\n",
      "Epoch 4/30\n",
      "20000/20000 [==============================] - 2s 76us/sample - loss: 0.1884 - accuracy: 0.9275 - val_loss: 0.3597 - val_accuracy: 0.8545\n",
      "Epoch 5/30\n",
      "20000/20000 [==============================] - 2s 88us/sample - loss: 0.1567 - accuracy: 0.9421 - val_loss: 0.4003 - val_accuracy: 0.8472\n",
      "Epoch 6/30\n",
      "20000/20000 [==============================] - 2s 85us/sample - loss: 0.1327 - accuracy: 0.9523 - val_loss: 0.4194 - val_accuracy: 0.8475\n",
      "Epoch 7/30\n",
      "20000/20000 [==============================] - 2s 84us/sample - loss: 0.1134 - accuracy: 0.9614 - val_loss: 0.4610 - val_accuracy: 0.8432\n",
      "Epoch 8/30\n",
      "20000/20000 [==============================] - 2s 79us/sample - loss: 0.0976 - accuracy: 0.9668 - val_loss: 0.5270 - val_accuracy: 0.8313\n",
      "Epoch 9/30\n",
      "20000/20000 [==============================] - 2s 82us/sample - loss: 0.0839 - accuracy: 0.9726 - val_loss: 0.5487 - val_accuracy: 0.8365\n",
      "Epoch 10/30\n",
      "20000/20000 [==============================] - 2s 91us/sample - loss: 0.0723 - accuracy: 0.9766 - val_loss: 0.5986 - val_accuracy: 0.8348\n",
      "Epoch 11/30\n",
      "20000/20000 [==============================] - 2s 89us/sample - loss: 0.0627 - accuracy: 0.9809 - val_loss: 0.6452 - val_accuracy: 0.8304\n",
      "Epoch 12/30\n",
      "20000/20000 [==============================] - 2s 86us/sample - loss: 0.0549 - accuracy: 0.9834 - val_loss: 0.7043 - val_accuracy: 0.8255\n",
      "Epoch 13/30\n",
      "20000/20000 [==============================] - 1s 73us/sample - loss: 0.0474 - accuracy: 0.9862 - val_loss: 0.7504 - val_accuracy: 0.8235\n",
      "Epoch 14/30\n",
      "20000/20000 [==============================] - 1s 72us/sample - loss: 0.0412 - accuracy: 0.9884 - val_loss: 0.8081 - val_accuracy: 0.8210\n",
      "Epoch 15/30\n",
      "20000/20000 [==============================] - 2s 78us/sample - loss: 0.0367 - accuracy: 0.9894 - val_loss: 0.8806 - val_accuracy: 0.8152\n",
      "Epoch 16/30\n",
      "20000/20000 [==============================] - 1s 74us/sample - loss: 0.0333 - accuracy: 0.9904 - val_loss: 0.9199 - val_accuracy: 0.8162\n",
      "Epoch 17/30\n",
      "20000/20000 [==============================] - 2s 82us/sample - loss: 0.0289 - accuracy: 0.9923 - val_loss: 0.9791 - val_accuracy: 0.8153\n",
      "Epoch 18/30\n",
      "20000/20000 [==============================] - 2s 80us/sample - loss: 0.0256 - accuracy: 0.9930 - val_loss: 1.0408 - val_accuracy: 0.8111\n",
      "Epoch 19/30\n",
      "20000/20000 [==============================] - 2s 75us/sample - loss: 0.0236 - accuracy: 0.9934 - val_loss: 1.0963 - val_accuracy: 0.8132\n",
      "Epoch 20/30\n",
      "20000/20000 [==============================] - 1s 72us/sample - loss: 0.0200 - accuracy: 0.9948 - val_loss: 1.1586 - val_accuracy: 0.8101\n",
      "Epoch 21/30\n",
      "20000/20000 [==============================] - 2s 76us/sample - loss: 0.0188 - accuracy: 0.9949 - val_loss: 1.1987 - val_accuracy: 0.8088\n",
      "Epoch 22/30\n",
      "20000/20000 [==============================] - 2s 76us/sample - loss: 0.0162 - accuracy: 0.9948 - val_loss: 1.2696 - val_accuracy: 0.8065\n",
      "Epoch 23/30\n",
      "20000/20000 [==============================] - 2s 75us/sample - loss: 0.0149 - accuracy: 0.9958 - val_loss: 1.3122 - val_accuracy: 0.8079\n",
      "Epoch 24/30\n",
      "20000/20000 [==============================] - 1s 73us/sample - loss: 0.0135 - accuracy: 0.9965 - val_loss: 1.3691 - val_accuracy: 0.8073\n",
      "Epoch 25/30\n",
      "20000/20000 [==============================] - 1s 72us/sample - loss: 0.0111 - accuracy: 0.9967 - val_loss: 1.4307 - val_accuracy: 0.8035\n",
      "Epoch 26/30\n",
      "20000/20000 [==============================] - 2s 77us/sample - loss: 0.0114 - accuracy: 0.9967 - val_loss: 1.4548 - val_accuracy: 0.8080\n",
      "Epoch 27/30\n",
      "20000/20000 [==============================] - 1s 74us/sample - loss: 0.0093 - accuracy: 0.9977 - val_loss: 1.5150 - val_accuracy: 0.8040\n",
      "Epoch 28/30\n",
      "20000/20000 [==============================] - 2s 93us/sample - loss: 0.0095 - accuracy: 0.9973 - val_loss: 1.5619 - val_accuracy: 0.8059\n",
      "Epoch 29/30\n",
      "20000/20000 [==============================] - 2s 78us/sample - loss: 0.0088 - accuracy: 0.9976 - val_loss: 1.6395 - val_accuracy: 0.8040\n",
      "Epoch 30/30\n",
      "20000/20000 [==============================] - 1s 70us/sample - loss: 0.0090 - accuracy: 0.9971 - val_loss: 1.6615 - val_accuracy: 0.8043\n"
     ]
    }
   ],
   "source": [
    "num_epochs = 30\n",
    "history = model.fit(training_padded, training_labels, epochs=num_epochs, validation_data=(testing_padded, testing_labels))"
   ]
  },
  {
   "cell_type": "code",
   "execution_count": 13,
   "metadata": {},
   "outputs": [
    {
     "data": {
      "image/png": "[encoded data removed]",
      "text/plain": [
       "<Figure size 432x288 with 1 Axes>"
      ]
     },
     "metadata": {
      "needs_background": "light"
     },
     "output_type": "display_data"
    },
    {
     "data": {
      "image/png": "[encoded data removed]",
      "text/plain": [
       "<Figure size 432x288 with 1 Axes>"
      ]
     },
     "metadata": {
      "needs_background": "light"
     },
     "output_type": "display_data"
    }
   ],
   "source": [
    "import matplotlib.pyplot as plt\n",
    "\n",
    "\n",
    "def plot_graphs(history, string):\n",
    "  plt.plot(history.history[string])\n",
    "  plt.plot(history.history['val_'+string])\n",
    "  plt.xlabel(\"Epochs\")\n",
    "  plt.ylabel(string)\n",
    "  plt.legend([string, 'val_'+string])\n",
    "  plt.show()\n",
    "  \n",
    "plot_graphs(history, \"accuracy\")\n",
    "plot_graphs(history, \"loss\")"
   ]
  },
  {
   "cell_type": "code",
   "execution_count": 14,
   "metadata": {},
   "outputs": [
    {
     "name": "stdout",
     "output_type": "stream",
     "text": [
      "former <OOV> store clerk sues over secret 'black <OOV> for minority shoppers ? ? ? ? ? ? ? ? ? ? ? ? ? ? ? ? ? ? ? ?\n",
      "mom starting to fear son's web series closest thing she will have to grandchild\n",
      "1\n"
     ]
    }
   ],
   "source": [
    "reverse_word_index = dict([(value, key) for (key, value) in word_index.items()])\n",
    "\n",
    "def decode_sentence(text):\n",
    "    return ' '.join([reverse_word_index.get(i, '?') for i in text])\n",
    "\n",
    "print(decode_sentence(training_padded[0]))\n",
    "print(training_sentences[2])\n",
    "print(labels[2])"
   ]
  },
  {
   "cell_type": "code",
   "execution_count": 15,
   "metadata": {},
   "outputs": [
    {
     "name": "stdout",
     "output_type": "stream",
     "text": [
      "(10000, 16)\n"
     ]
    }
   ],
   "source": [
    "e = model.layers[0]\n",
    "weights = e.get_weights()[0]\n",
    "print(weights.shape) # shape: (vocab_size, embedding_dim)"
   ]
  },
  {
   "cell_type": "code",
   "execution_count": 16,
   "metadata": {},
   "outputs": [],
   "source": [
    "import io\n",
    "\n",
    "out_v = io.open('vecs.tsv', 'w', encoding='utf-8')\n",
    "out_m = io.open('meta.tsv', 'w', encoding='utf-8')\n",
    "for word_num in range(1, vocab_size):\n",
    "  word = reverse_word_index[word_num]\n",
    "  embeddings = weights[word_num]\n",
    "  out_m.write(word + \"\\n\")\n",
    "  out_v.write('\\t'.join([str(x) for x in embeddings]) + \"\\n\")\n",
    "out_v.close()\n",
    "out_m.close()"
   ]
  },
  {
   "cell_type": "code",
   "execution_count": 20,
   "metadata": {},
   "outputs": [
    {
     "name": "stdout",
     "output_type": "stream",
     "text": [
      "[[0.9995158]\n",
      " [0.       ]]\n"
     ]
    }
   ],
   "source": [
    "sentence = [\"granny starting to fear spiders in the garden might be real\", \"game of thrones season finale showing this sunday night\"]\n",
    "sequences = tokenizer.texts_to_sequences(sentence)\n",
    "padded = pad_sequences(sequences, maxlen=max_length, padding=padding_type, truncating=trunc_type)\n",
    "print(model.predict(padded))"
   ]
  }
 ],
 "metadata": {
  "kernelspec": {
   "display_name": "Python 3",
   "language": "python",
   "name": "python3"
  },
  "language_info": {
   "codemirror_mode": {
    "name": "ipython",
    "version": 3
   },
   "file_extension": ".py",
   "mimetype": "text/x-python",
   "name": "python",
   "nbconvert_exporter": "python",
   "pygments_lexer": "ipython3",
   "version": "3.7.0"
  }
 },
 "nbformat": 4,
 "nbformat_minor": 2
}
